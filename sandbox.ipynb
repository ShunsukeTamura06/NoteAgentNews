{
 "cells": [
  {
   "cell_type": "code",
   "execution_count": 4,
   "metadata": {},
   "outputs": [
    {
     "name": "stdout",
     "output_type": "stream",
     "text": [
      "message.content='2025年3月9日から3月16日までの間に日本国内で大きな話題となったニュースを以下にまとめました。\\n\\n**1. JR各社のダイヤ改正と新たな交通インフラの整備**\\n\\n2025年3月15日、JR各社はダイヤ改正を実施しました。特に注目されたのは、JR西日本が大阪・関西万博の開催に向けて、新大阪駅と万博会場最寄りの桜島駅を直通で結ぶ臨時列車「エキスポライナー」を運行開始したことです。これにより、万博会場へのアクセス利便性が大幅に向上しました。 ([yokotashurin.com](https://yokotashurin.com/etc/202503change.html?utm_source=openai))\\n\\nまた、3月24日には広島駅に新たな駅ビル「ミナモア」が開業予定で、路面電車がビルの2階に乗り入れる計画もあり、都市交通の新たな形として注目を集めています。 ([yokotashurin.com](https://yokotashurin.com/etc/202503change.html?utm_source=openai))\\n\\n**2. 高校生によるキャリア支援イベントの開催**\\n\\n3月15日と16日には、高校生が自らのアイデアを披露する「第11回マイナビキャリア甲子園」の決勝大会が開催されました。このイベントは、学生のキャリア形成を支援する取り組みとして注目されています。 ([edu.watch.impress.co.jp](https://edu.watch.impress.co.jp/docs/news/index.html?utm_source=openai))\\n\\n**3. 兵庫県高砂市の無線LAN導入**\\n\\n3月7日、兵庫県高砂市は市内約500カ所に無線LANアクセスポイント「ACERA」を導入することを発表しました。これにより、市民の情報アクセス環境が大幅に改善されることが期待されています。 ([edu.watch.impress.co.jp](https://edu.watch.impress.co.jp/docs/news/index.html?utm_source=openai))\\n\\n**4. 高額療養費制度の見直し見送り**\\n\\n3月8日、石破総理は高額療養費制度の見直し全体の実施を見合わせる決断をしたと表明しました。これにより、患者の自己負担軽減策が当面維持されることとなりました。 ([pittarisan.com](https://pittarisan.com/2025-3-2/?utm_source=openai))\\n\\n**5. 高校生によるメディアリテラシー教材の発表**\\n\\n3月7日、高校生が「メディアリテラシー」の授業と教材を発表しました。この取り組みは、フェイクニュースに惑わされないスキルを学ぶことを目的としており、教育現場での注目を集めています。 ([edu.watch.impress.co.jp](https://edu.watch.impress.co.jp/docs/news/index.html?utm_source=openai))\\n\\nこれらのニュースは、交通インフラの整備や教育分野での新たな取り組みなど、国内で大きな関心を集めました。 '\n",
      "\n",
      "[2025年(令和7年)3月から変わること・終わること・始まること | ネットビジネス・アナリスト横田秀珠](https://yokotashurin.com/etc/202503change.html?utm_source=openai)\n",
      "[2025年(令和7年)3月から変わること・終わること・始まること | ネットビジネス・アナリスト横田秀珠](https://yokotashurin.com/etc/202503change.html?utm_source=openai)\n",
      "[ニュース 2025年3月 記事一覧](https://edu.watch.impress.co.jp/docs/news/index.html?utm_source=openai)\n",
      "[ニュース 2025年3月 記事一覧](https://edu.watch.impress.co.jp/docs/news/index.html?utm_source=openai)\n",
      "[2025年3月 一般(国内・国際) - 〖2025〗時事えもん｜テストに出やすい最新ニュース社会・体育(スポーツ)時事問題を厳選](https://pittarisan.com/2025-3-2/?utm_source=openai)\n",
      "[ニュース 2025年3月 記事一覧](https://edu.watch.impress.co.jp/docs/news/index.html?utm_source=openai)\n"
     ]
    }
   ],
   "source": [
    "from openai import OpenAI\n",
    "\n",
    "client = OpenAI()\n",
    "completion = client.chat.completions.create(\n",
    "    model=\"gpt-4o-mini-search-preview\",\n",
    "    web_search_options={\n",
    "        \"search_context_size\": \"medium\",\n",
    "        \"user_location\": {\n",
    "            \"type\": \"approximate\",\n",
    "            \"approximate\": {\n",
    "                \"country\": \"JP\",\n",
    "                \"timezone\": \"Asia/Tokyo\",\n",
    "            },\n",
    "        },\n",
    "    },\n",
    "    messages=[\n",
    "        {\n",
    "            \"role\": \"user\",\n",
    "            \"content\": \"2025/3/9から2025/3/16の間で大きな話題になっている国内ニュースを正確に集めて。\",\n",
    "        }\n",
    "    ],\n",
    ")\n",
    "\n",
    "message = completion.choices[0].message\n",
    "print(f\"{message.content=}\")\n",
    "print()\n",
    "for annotation in message.annotations:\n",
    "    url_citation = annotation.url_citation\n",
    "    print(f\"[{url_citation.title}]({url_citation.url})\")"
   ]
  }
 ],
 "metadata": {
  "kernelspec": {
   "display_name": "Python 3",
   "language": "python",
   "name": "python3"
  },
  "language_info": {
   "codemirror_mode": {
    "name": "ipython",
    "version": 3
   },
   "file_extension": ".py",
   "mimetype": "text/x-python",
   "name": "python",
   "nbconvert_exporter": "python",
   "pygments_lexer": "ipython3",
   "version": "3.11.6"
  }
 },
 "nbformat": 4,
 "nbformat_minor": 2
}
